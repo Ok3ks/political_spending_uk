{
 "cells": [
  {
   "cell_type": "markdown",
   "metadata": {},
   "source": [
    "# Classification"
   ]
  },
  {
   "cell_type": "code",
   "execution_count": 1,
   "metadata": {},
   "outputs": [],
   "source": [
    "import sys\n",
    "import os\n",
    "\n",
    "module_path = os.path.abspath(os.path.join(os.pardir, os.pardir))\n",
    "if module_path not in sys.path:\n",
    "    sys.path.append(module_path)"
   ]
  },
  {
   "cell_type": "code",
   "execution_count": 10,
   "metadata": {},
   "outputs": [],
   "source": [
    "from src.models.classifier_v2 import Classifier\n",
    "\n",
    "classifier = Classifier()"
   ]
  },
  {
   "cell_type": "code",
   "execution_count": 6,
   "metadata": {},
   "outputs": [],
   "source": [
    "from src.config import data_dir\n",
    "\n",
    "classifier._read_data(data_dir + '/v2/out.json')"
   ]
  },
  {
   "cell_type": "code",
   "execution_count": 8,
   "metadata": {},
   "outputs": [
    {
     "name": "stdout",
     "output_type": "stream",
     "text": [
      "Classifying 335 data points\n"
     ]
    },
    {
     "name": "stderr",
     "output_type": "stream",
     "text": [
      "/Users/max/Desktop/IDP/political_spending_uk/new_env/lib/python3.8/site-packages/torch/functional.py:864: UserWarning: MPS: unique_consecutive op is supported natively starting from macOS 13.0. Falling back on CPU. This may have performace implications. (Triggered internally at /Users/runner/work/pytorch/pytorch/pytorch/aten/src/ATen/native/mps/operations/Unique.mm:334.)\n",
      "  output, inverse_indices, counts = _VF.unique_consecutive(  # type: ignore[attr-defined]\n",
      "/Users/max/Desktop/IDP/political_spending_uk/new_env/lib/python3.8/site-packages/transformers/models/bart/modeling_bart.py:1538: UserWarning: MPS: nonzero op is supported natively starting from macOS 13.0. Falling back on CPU. This may have performance implications. (Triggered internally at /Users/runner/work/pytorch/pytorch/pytorch/aten/src/ATen/native/mps/operations/Indexing.mm:218.)\n",
      "  sentence_representation = hidden_states[eos_mask, :].view(hidden_states.size(0), -1, hidden_states.size(-1))[\n"
     ]
    },
    {
     "name": "stdout",
     "output_type": "stream",
     "text": [
      "Saving predictions\n"
     ]
    },
    {
     "ename": "TypeError",
     "evalue": "_save_predictions() missing 1 required positional argument: 'output_filetype'",
     "output_type": "error",
     "traceback": [
      "\u001b[0;31m---------------------------------------------------------------------------\u001b[0m",
      "\u001b[0;31mTypeError\u001b[0m                                 Traceback (most recent call last)",
      "Cell \u001b[0;32mIn[8], line 1\u001b[0m\n\u001b[0;32m----> 1\u001b[0m classifier\u001b[39m.\u001b[39;49mclassify()\n",
      "File \u001b[0;32m~/Desktop/IDP/political_spending_uk/src/models/classifier_v2.py:79\u001b[0m, in \u001b[0;36mclassify\u001b[0;34m(self)\u001b[0m\n\u001b[1;32m     76\u001b[0m     \u001b[39mself\u001b[39m\u001b[39m.\u001b[39mpredictions\u001b[39m.\u001b[39mappend((\u001b[39mid\u001b[39m, description, amount, label))\n\u001b[1;32m     78\u001b[0m \u001b[39mprint\u001b[39m(\u001b[39mf\u001b[39m\u001b[39m\"\u001b[39m\u001b[39mSaving predictions\u001b[39m\u001b[39m\"\u001b[39m)\n\u001b[0;32m---> 79\u001b[0m \u001b[39mself\u001b[39m\u001b[39m.\u001b[39mpredictions_as_df \u001b[39m=\u001b[39m pd\u001b[39m.\u001b[39mDataFrame(\u001b[39mself\u001b[39m\u001b[39m.\u001b[39mpredictions)\n\u001b[1;32m     80\u001b[0m \u001b[39mself\u001b[39m\u001b[39m.\u001b[39m_save_predictions()\n",
      "\u001b[0;31mTypeError\u001b[0m: _save_predictions() missing 1 required positional argument: 'output_filetype'"
     ]
    }
   ],
   "source": [
    "classifier.classify()"
   ]
  },
  {
   "cell_type": "markdown",
   "metadata": {},
   "source": [
    "### View data points"
   ]
  },
  {
   "cell_type": "code",
   "execution_count": null,
   "metadata": {},
   "outputs": [],
   "source": [
    "from src.models."
   ]
  },
  {
   "cell_type": "code",
   "execution_count": 3,
   "metadata": {},
   "outputs": [
    {
     "data": {
      "text/html": [
       "<div>\n",
       "<style scoped>\n",
       "    .dataframe tbody tr th:only-of-type {\n",
       "        vertical-align: middle;\n",
       "    }\n",
       "\n",
       "    .dataframe tbody tr th {\n",
       "        vertical-align: top;\n",
       "    }\n",
       "\n",
       "    .dataframe thead th {\n",
       "        text-align: right;\n",
       "    }\n",
       "</style>\n",
       "<table border=\"1\" class=\"dataframe\">\n",
       "  <thead>\n",
       "    <tr style=\"text-align: right;\">\n",
       "      <th></th>\n",
       "      <th>0</th>\n",
       "      <th>1</th>\n",
       "      <th>2</th>\n",
       "    </tr>\n",
       "  </thead>\n",
       "  <tbody>\n",
       "    <tr>\n",
       "      <th>0</th>\n",
       "      <td>66836</td>\n",
       "      <td>GE 2019 Statics ALL .08</td>\n",
       "      <td>2.081</td>\n",
       "    </tr>\n",
       "    <tr>\n",
       "      <th>1</th>\n",
       "      <td>66836</td>\n",
       "      <td>2 GE2019 - AB Polling Day</td>\n",
       "      <td>4,941.61</td>\n",
       "    </tr>\n",
       "    <tr>\n",
       "      <th>2</th>\n",
       "      <td>66836</td>\n",
       "      <td>3 GE2019 - GOTV FS per 4 GE2019 - GOTV NHS per...</td>\n",
       "      <td>1,945.59</td>\n",
       "    </tr>\n",
       "    <tr>\n",
       "      <th>3</th>\n",
       "      <td>66836</td>\n",
       "      <td>5 GE2019 - JC - Jessi GOTV</td>\n",
       "      <td>5,006.62</td>\n",
       "    </tr>\n",
       "    <tr>\n",
       "      <th>4</th>\n",
       "      <td>66836</td>\n",
       "      <td>6 GE2019 - JC - Jessi story 7 GE2049 - JC - ri...</td>\n",
       "      <td>58,828.99</td>\n",
       "    </tr>\n",
       "    <tr>\n",
       "      <th>...</th>\n",
       "      <td>...</td>\n",
       "      <td>...</td>\n",
       "      <td>...</td>\n",
       "    </tr>\n",
       "    <tr>\n",
       "      <th>330</th>\n",
       "      <td>68766</td>\n",
       "      <td>15 Instagram - KS - BATT - A1 - 002 - OTHER</td>\n",
       "      <td>271.52</td>\n",
       "    </tr>\n",
       "    <tr>\n",
       "      <th>331</th>\n",
       "      <td>68766</td>\n",
       "      <td>16 Instagram - KS - BEDF - B2-002- OTHER INVOI...</td>\n",
       "      <td>258.92</td>\n",
       "    </tr>\n",
       "    <tr>\n",
       "      <th>332</th>\n",
       "      <td>68766</td>\n",
       "      <td>4 Grand Canal Square Freight: Grand Canal Harb...</td>\n",
       "      <td>0.00</td>\n",
       "    </tr>\n",
       "    <tr>\n",
       "      <th>333</th>\n",
       "      <td>68766</td>\n",
       "      <td>DL One Piece Mailer containing 2x Letters encl...</td>\n",
       "      <td>£</td>\n",
       "    </tr>\n",
       "    <tr>\n",
       "      <th>334</th>\n",
       "      <td>68766</td>\n",
       "      <td>Letter Less than 100grms 1,603,049 £ £ £ PCC D...</td>\n",
       "      <td>£</td>\n",
       "    </tr>\n",
       "  </tbody>\n",
       "</table>\n",
       "<p>335 rows × 3 columns</p>\n",
       "</div>"
      ],
      "text/plain": [
       "         0                                                  1          2\n",
       "0    66836                            GE 2019 Statics ALL .08      2.081\n",
       "1    66836                          2 GE2019 - AB Polling Day   4,941.61\n",
       "2    66836  3 GE2019 - GOTV FS per 4 GE2019 - GOTV NHS per...   1,945.59\n",
       "3    66836                         5 GE2019 - JC - Jessi GOTV   5,006.62\n",
       "4    66836  6 GE2019 - JC - Jessi story 7 GE2049 - JC - ri...  58,828.99\n",
       "..     ...                                                ...        ...\n",
       "330  68766        15 Instagram - KS - BATT - A1 - 002 - OTHER     271.52\n",
       "331  68766  16 Instagram - KS - BEDF - B2-002- OTHER INVOI...     258.92\n",
       "332  68766  4 Grand Canal Square Freight: Grand Canal Harb...       0.00\n",
       "333  68766  DL One Piece Mailer containing 2x Letters encl...          £\n",
       "334  68766  Letter Less than 100grms 1,603,049 £ £ £ PCC D...          £\n",
       "\n",
       "[335 rows x 3 columns]"
      ]
     },
     "execution_count": 3,
     "metadata": {},
     "output_type": "execute_result"
    }
   ],
   "source": [
    "classifier.data_points"
   ]
  },
  {
   "cell_type": "code",
   "execution_count": 4,
   "metadata": {},
   "outputs": [
    {
     "name": "stdout",
     "output_type": "stream",
     "text": [
      "Classifying 335 data points\n"
     ]
    },
    {
     "name": "stderr",
     "output_type": "stream",
     "text": [
      "/Users/max/Desktop/IDP/political_spending_uk/new_env/lib/python3.8/site-packages/torch/functional.py:864: UserWarning: MPS: unique_consecutive op is supported natively starting from macOS 13.0. Falling back on CPU. This may have performace implications. (Triggered internally at /Users/runner/work/pytorch/pytorch/pytorch/aten/src/ATen/native/mps/operations/Unique.mm:334.)\n",
      "  output, inverse_indices, counts = _VF.unique_consecutive(  # type: ignore[attr-defined]\n",
      "/Users/max/Desktop/IDP/political_spending_uk/new_env/lib/python3.8/site-packages/transformers/models/bart/modeling_bart.py:1538: UserWarning: MPS: nonzero op is supported natively starting from macOS 13.0. Falling back on CPU. This may have performance implications. (Triggered internally at /Users/runner/work/pytorch/pytorch/pytorch/aten/src/ATen/native/mps/operations/Indexing.mm:218.)\n",
      "  sentence_representation = hidden_states[eos_mask, :].view(hidden_states.size(0), -1, hidden_states.size(-1))[\n"
     ]
    },
    {
     "name": "stdout",
     "output_type": "stream",
     "text": [
      "Saving predictions\n"
     ]
    }
   ],
   "source": [
    "classifier.classify()"
   ]
  },
  {
   "cell_type": "markdown",
   "metadata": {},
   "source": [
    "### View predictions"
   ]
  },
  {
   "cell_type": "code",
   "execution_count": 5,
   "metadata": {},
   "outputs": [
    {
     "data": {
      "text/html": [
       "<div>\n",
       "<style scoped>\n",
       "    .dataframe tbody tr th:only-of-type {\n",
       "        vertical-align: middle;\n",
       "    }\n",
       "\n",
       "    .dataframe tbody tr th {\n",
       "        vertical-align: top;\n",
       "    }\n",
       "\n",
       "    .dataframe thead th {\n",
       "        text-align: right;\n",
       "    }\n",
       "</style>\n",
       "<table border=\"1\" class=\"dataframe\">\n",
       "  <thead>\n",
       "    <tr style=\"text-align: right;\">\n",
       "      <th></th>\n",
       "      <th>0</th>\n",
       "      <th>1</th>\n",
       "      <th>2</th>\n",
       "      <th>3</th>\n",
       "    </tr>\n",
       "  </thead>\n",
       "  <tbody>\n",
       "    <tr>\n",
       "      <th>0</th>\n",
       "      <td>66836</td>\n",
       "      <td>GE 2019 Statics ALL .08</td>\n",
       "      <td>2.081</td>\n",
       "      <td>Production Services</td>\n",
       "    </tr>\n",
       "    <tr>\n",
       "      <th>1</th>\n",
       "      <td>66836</td>\n",
       "      <td>2 GE2019 - AB Polling Day</td>\n",
       "      <td>4,941.61</td>\n",
       "      <td>Campaign activity</td>\n",
       "    </tr>\n",
       "    <tr>\n",
       "      <th>2</th>\n",
       "      <td>66836</td>\n",
       "      <td>3 GE2019 - GOTV FS per 4 GE2019 - GOTV NHS per...</td>\n",
       "      <td>1,945.59</td>\n",
       "      <td>Campaign activity</td>\n",
       "    </tr>\n",
       "    <tr>\n",
       "      <th>3</th>\n",
       "      <td>66836</td>\n",
       "      <td>5 GE2019 - JC - Jessi GOTV</td>\n",
       "      <td>5,006.62</td>\n",
       "      <td>GOTV</td>\n",
       "    </tr>\n",
       "    <tr>\n",
       "      <th>4</th>\n",
       "      <td>66836</td>\n",
       "      <td>6 GE2019 - JC - Jessi story 7 GE2049 - JC - ri...</td>\n",
       "      <td>58,828.99</td>\n",
       "      <td>Campaign activity</td>\n",
       "    </tr>\n",
       "    <tr>\n",
       "      <th>...</th>\n",
       "      <td>...</td>\n",
       "      <td>...</td>\n",
       "      <td>...</td>\n",
       "      <td>...</td>\n",
       "    </tr>\n",
       "    <tr>\n",
       "      <th>330</th>\n",
       "      <td>68766</td>\n",
       "      <td>15 Instagram - KS - BATT - A1 - 002 - OTHER</td>\n",
       "      <td>271.52</td>\n",
       "      <td>Other forms of research</td>\n",
       "    </tr>\n",
       "    <tr>\n",
       "      <th>331</th>\n",
       "      <td>68766</td>\n",
       "      <td>16 Instagram - KS - BEDF - B2-002- OTHER INVOI...</td>\n",
       "      <td>258.92</td>\n",
       "      <td>Social media advertising</td>\n",
       "    </tr>\n",
       "    <tr>\n",
       "      <th>332</th>\n",
       "      <td>68766</td>\n",
       "      <td>4 Grand Canal Square Freight: Grand Canal Harb...</td>\n",
       "      <td>0.00</td>\n",
       "      <td>Transport</td>\n",
       "    </tr>\n",
       "    <tr>\n",
       "      <th>333</th>\n",
       "      <td>68766</td>\n",
       "      <td>DL One Piece Mailer containing 2x Letters encl...</td>\n",
       "      <td>£</td>\n",
       "      <td>Campaign activity</td>\n",
       "    </tr>\n",
       "    <tr>\n",
       "      <th>334</th>\n",
       "      <td>68766</td>\n",
       "      <td>Letter Less than 100grms 1,603,049 £ £ £ PCC D...</td>\n",
       "      <td>£</td>\n",
       "      <td>Consultancy</td>\n",
       "    </tr>\n",
       "  </tbody>\n",
       "</table>\n",
       "<p>335 rows × 4 columns</p>\n",
       "</div>"
      ],
      "text/plain": [
       "         0                                                  1          2  \\\n",
       "0    66836                            GE 2019 Statics ALL .08      2.081   \n",
       "1    66836                          2 GE2019 - AB Polling Day   4,941.61   \n",
       "2    66836  3 GE2019 - GOTV FS per 4 GE2019 - GOTV NHS per...   1,945.59   \n",
       "3    66836                         5 GE2019 - JC - Jessi GOTV   5,006.62   \n",
       "4    66836  6 GE2019 - JC - Jessi story 7 GE2049 - JC - ri...  58,828.99   \n",
       "..     ...                                                ...        ...   \n",
       "330  68766        15 Instagram - KS - BATT - A1 - 002 - OTHER     271.52   \n",
       "331  68766  16 Instagram - KS - BEDF - B2-002- OTHER INVOI...     258.92   \n",
       "332  68766  4 Grand Canal Square Freight: Grand Canal Harb...       0.00   \n",
       "333  68766  DL One Piece Mailer containing 2x Letters encl...          £   \n",
       "334  68766  Letter Less than 100grms 1,603,049 £ £ £ PCC D...          £   \n",
       "\n",
       "                            3  \n",
       "0        Production Services   \n",
       "1           Campaign activity  \n",
       "2           Campaign activity  \n",
       "3                        GOTV  \n",
       "4           Campaign activity  \n",
       "..                        ...  \n",
       "330   Other forms of research  \n",
       "331  Social media advertising  \n",
       "332                 Transport  \n",
       "333         Campaign activity  \n",
       "334               Consultancy  \n",
       "\n",
       "[335 rows x 4 columns]"
      ]
     },
     "execution_count": 5,
     "metadata": {},
     "output_type": "execute_result"
    }
   ],
   "source": [
    "classifier.predictions_as_df\n"
   ]
  }
 ],
 "metadata": {
  "kernelspec": {
   "display_name": "new_env",
   "language": "python",
   "name": "python3"
  },
  "language_info": {
   "codemirror_mode": {
    "name": "ipython",
    "version": 3
   },
   "file_extension": ".py",
   "mimetype": "text/x-python",
   "name": "python",
   "nbconvert_exporter": "python",
   "pygments_lexer": "ipython3",
   "version": "3.8.10"
  },
  "orig_nbformat": 4,
  "vscode": {
   "interpreter": {
    "hash": "9f3378fab82134474f78ccb088e1cfa987ea38ea6cf4fc7be9ec246b736cca8c"
   }
  }
 },
 "nbformat": 4,
 "nbformat_minor": 2
}
